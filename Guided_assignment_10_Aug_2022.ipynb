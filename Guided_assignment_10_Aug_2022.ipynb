{
  "nbformat": 4,
  "nbformat_minor": 0,
  "metadata": {
    "colab": {
      "name": "Guided assignment 10-Aug-2022.ipynb",
      "provenance": []
    },
    "kernelspec": {
      "name": "python3",
      "display_name": "Python 3"
    },
    "language_info": {
      "name": "python"
    }
  },
  "cells": [
    {
      "cell_type": "markdown",
      "source": [
        "Name : Gaddameedi Lohith\n",
        "email-id : lohith.g.444@gmail.com"
      ],
      "metadata": {
        "id": "4Kf9uaZfduE_"
      }
    },
    {
      "cell_type": "markdown",
      "source": [
        "Assignment-1"
      ],
      "metadata": {
        "id": "NBNTYpcUcCSG"
      }
    },
    {
      "cell_type": "code",
      "execution_count": 2,
      "metadata": {
        "colab": {
          "base_uri": "https://localhost:8080/"
        },
        "id": "XS7o_qoMb7uA",
        "outputId": "fdee20d9-e6ad-436c-c1b9-6ca3b2958dea"
      },
      "outputs": [
        {
          "output_type": "stream",
          "name": "stdout",
          "text": [
            "6\n",
            "[[2 1 3 0 5 4 3 2 1 2 2 3 4 4 0 5 0 0 3 1]]\n"
          ]
        }
      ],
      "source": [
        "import numpy as np\n",
        "x = int(input())\n",
        "arr = np.random.randint(0,x,(1,20)) \n",
        "print(arr)"
      ]
    },
    {
      "cell_type": "markdown",
      "source": [
        "Assignment-2"
      ],
      "metadata": {
        "id": "Grrm7Qh_chcX"
      }
    },
    {
      "cell_type": "code",
      "source": [
        "arr = np.arange(300, 500, 10).reshape(4,5)\n",
        "print(arr)"
      ],
      "metadata": {
        "colab": {
          "base_uri": "https://localhost:8080/"
        },
        "id": "oxZOKKs-cI_Q",
        "outputId": "7242dcc8-8ec7-42d5-8c16-586e62f01ff0"
      },
      "execution_count": 3,
      "outputs": [
        {
          "output_type": "stream",
          "name": "stdout",
          "text": [
            "[[300 310 320 330 340]\n",
            " [350 360 370 380 390]\n",
            " [400 410 420 430 440]\n",
            " [450 460 470 480 490]]\n"
          ]
        }
      ]
    },
    {
      "cell_type": "markdown",
      "source": [
        "Assignment-3"
      ],
      "metadata": {
        "id": "xjCWJt1qcsIg"
      }
    },
    {
      "cell_type": "code",
      "source": [
        "new_arr = np.random.randint(-1000,1000,(20,20)) \n",
        "print(new_arr)\n",
        "print(\"Maximum value = \", np.max(new_arr))\n",
        "print(\"Minimum value = \", np.min(new_arr))\n",
        "print(\"Mean = \", np.mean(new_arr))"
      ],
      "metadata": {
        "colab": {
          "base_uri": "https://localhost:8080/"
        },
        "id": "bx5myyyUcImO",
        "outputId": "ae8bf995-2ca0-45bd-9bc2-9c69085aed87"
      },
      "execution_count": 5,
      "outputs": [
        {
          "output_type": "stream",
          "name": "stdout",
          "text": [
            "[[-559 -788 -648  504 -223  403  641  374  169 -847 -912  296  590  -50\n",
            "  -588  228 -611 -383  -18 -628]\n",
            " [ 930 -986 -251  925  611  666 -147  -61  623  265 -410  -59 -498 -632\n",
            "   604  859 -226 -755 -213  -43]\n",
            " [-412   -5 -528  934 -279  416 -587  606  540  877  842  621  687 -529\n",
            "   580  553 -977  173  226  717]\n",
            " [ 776  940 -172 -353 -383  953   -1 -816  758  208  356  191  -47  179\n",
            "   252 -657  -68  981  466  137]\n",
            " [-437 -919  669   99 -331 -609  354  435  560  -99  727  921  531 -586\n",
            "   113  849  588 -468 -294 -473]\n",
            " [ 649  528 -511  140 -490  877  -82 -170  746  912  588  860  413  669\n",
            "   374  151  449  548  555  678]\n",
            " [ 179  257  247  460  432 -568 -607 -350  403    2  204 -248  651 -525\n",
            "   707 -628 -841  756 -736  965]\n",
            " [-247 -446 -812  316  445  -50 -225 -411   72 -864 -518  226 -335  299\n",
            "   228 -876 -725  559  799  852]\n",
            " [ 654  752  585 -719 -459  320 -491  -10 -880 -836  621  511 -510 -950\n",
            "   -27 -427  967 -308  584   16]\n",
            " [-938  -20  692 -950 -425 -223  162 -773  136 -857  599  656 -610  -51\n",
            "   805 -182  547 -172  472 -415]\n",
            " [  92  -81  -37   11  917 -442  145  314  564 -263  751 -645  340 -237\n",
            "   262  713   18 -163 -466  570]\n",
            " [ 878 -550  -74  681  284  833 -206  158 -346 -116  396 -104 -490  444\n",
            "   573  196 -811 -809 -474 -792]\n",
            " [ 744  382 -806 -708 -792  710  438  748   58 -533 -468  328  265 -988\n",
            "    71 -545  121 -684  142 -770]\n",
            " [ 782  771  -67  496 -115 -824 -461  266 -953  351  743  722 -369  845\n",
            "  -773   55  -96 -793 -687 -353]\n",
            " [-187 -412   62 -527 -240  195 -704  527  746  210  374  730  331 -156\n",
            "  -234 -926 -183 -344  972  436]\n",
            " [-575 -380    5 -995  925  -35 -576 -994  535  686 -812   74 -590  -73\n",
            "   969  355 -610 -621  341 -628]\n",
            " [ 814  818  653  632 -191 -508 -722  699 -279   72  764  530 -328  628\n",
            "  -918 -616  -98  -10 -691  991]\n",
            " [ 522  611  727  369 -460  -51   18  653  851  452  915 -911  182  761\n",
            "  -291  982  131 -463 -605  301]\n",
            " [ 597 -401  291 -820  833   -5  438  910  277  631  -16 -768  339  585\n",
            "   435  481 -647  281  614 -400]\n",
            " [-112 -914  726 -366 -486 -528 -553  677  -16 -732   48  590  426 -569\n",
            "   162  712  812  277 -707 -497]]\n",
            "Maximum value =  991\n",
            "Minimum value =  -995\n",
            "Mean =  48.0275\n"
          ]
        }
      ]
    },
    {
      "cell_type": "markdown",
      "source": [
        "Assignment-4"
      ],
      "metadata": {
        "id": "RE1uzKVlc0mv"
      }
    },
    {
      "cell_type": "code",
      "source": [
        "arr = np.random.randint(-50,50,(5,5)) \n",
        "print (arr)\n",
        "rows, columns = arr.shape\n",
        "arr[rows - 1] = [-1]*columns\n",
        "print(\"After replacing the last row with -1:\")\n",
        "print(arr)\n",
        "for number in arr[:-(rows - 2),columns-2:]:\n",
        "    number *= 2\n",
        "print(\"Multiplying the last row by 2:\")\n",
        "print(arr)"
      ],
      "metadata": {
        "colab": {
          "base_uri": "https://localhost:8080/"
        },
        "id": "Y6bdd2zFczM6",
        "outputId": "43cd7433-38d3-4993-9f90-d921fd5f7dca"
      },
      "execution_count": 11,
      "outputs": [
        {
          "output_type": "stream",
          "name": "stdout",
          "text": [
            "[[-10  21  33 -40  -8]\n",
            " [-25 -21  22  11  46]\n",
            " [  6  15 -17 -30  22]\n",
            " [-27  18 -35  25  29]\n",
            " [ -6 -47  -5 -16  -4]]\n",
            "After replacing the last row with -1:\n",
            "[[-10  21  33 -40  -8]\n",
            " [-25 -21  22  11  46]\n",
            " [  6  15 -17 -30  22]\n",
            " [-27  18 -35  25  29]\n",
            " [ -1  -1  -1  -1  -1]]\n",
            "Multiplying the last row by 2:\n",
            "[[-10  21  33 -80 -16]\n",
            " [-25 -21  22  22  92]\n",
            " [  6  15 -17 -30  22]\n",
            " [-27  18 -35  25  29]\n",
            " [ -1  -1  -1  -1  -1]]\n"
          ]
        }
      ]
    },
    {
      "cell_type": "markdown",
      "source": [
        "Assignment-5"
      ],
      "metadata": {
        "id": "OKWK4zoCdfYR"
      }
    },
    {
      "cell_type": "code",
      "source": [
        "arr = np.random.randint(-50,50,(5,5)) \n",
        "print (arr)\n",
        "arr[arr < 0] = 0\n",
        "print(arr)\n",
        "arr[arr % 2 != 0] = 25\n",
        "print(arr)"
      ],
      "metadata": {
        "colab": {
          "base_uri": "https://localhost:8080/"
        },
        "id": "rdCvnmwWdOBd",
        "outputId": "71aea108-a1ce-4b04-fb05-5e874a05a202"
      },
      "execution_count": 9,
      "outputs": [
        {
          "output_type": "stream",
          "name": "stdout",
          "text": [
            "[[ 24 -21  49  40   8]\n",
            " [ 35 -16 -32  29  -9]\n",
            " [  6 -31  27  22  -4]\n",
            " [-31  48 -16 -29 -11]\n",
            " [-33 -50  18 -23  40]]\n",
            "[[24  0 49 40  8]\n",
            " [35  0  0 29  0]\n",
            " [ 6  0 27 22  0]\n",
            " [ 0 48  0  0  0]\n",
            " [ 0  0 18  0 40]]\n",
            "[[24  0 25 40  8]\n",
            " [25  0  0 25  0]\n",
            " [ 6  0 25 22  0]\n",
            " [ 0 48  0  0  0]\n",
            " [ 0  0 18  0 40]]\n"
          ]
        }
      ]
    },
    {
      "cell_type": "code",
      "source": [
        ""
      ],
      "metadata": {
        "id": "fzAhpgFcdo3Q"
      },
      "execution_count": null,
      "outputs": []
    }
  ]
}